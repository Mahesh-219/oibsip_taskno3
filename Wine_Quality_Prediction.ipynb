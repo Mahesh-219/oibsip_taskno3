{
  "nbformat": 4,
  "nbformat_minor": 0,
  "metadata": {
    "colab": {
      "private_outputs": true,
      "provenance": [],
      "authorship_tag": "ABX9TyOr+ZjFSOxcES873kJSpkqZ",
      "include_colab_link": true
    },
    "kernelspec": {
      "name": "python3",
      "display_name": "Python 3"
    },
    "language_info": {
      "name": "python"
    }
  },
  "cells": [
    {
      "cell_type": "markdown",
      "metadata": {
        "id": "view-in-github",
        "colab_type": "text"
      },
      "source": [
        "<a href=\"https://colab.research.google.com/github/Mahesh-219/oibsip_taskno3/blob/main/Wine_Quality_Prediction.ipynb\" target=\"_parent\"><img src=\"https://colab.research.google.com/assets/colab-badge.svg\" alt=\"Open In Colab\"/></a>"
      ]
    },
    {
      "cell_type": "code",
      "execution_count": null,
      "metadata": {
        "id": "0iMajlwDbhUZ"
      },
      "outputs": [],
      "source": [
        "import numpy as np\n",
        "import pandas as pd\n",
        "import matplotlib.pyplot as plt\n",
        "import seaborn as sb\n",
        "\n",
        "from sklearn.model_selection import train_test_split\n",
        "from sklearn.preprocessing import MinMaxScaler\n",
        "from sklearn import metrics\n",
        "from sklearn.svm import SVC\n",
        "from xgboost import XGBClassifier\n",
        "from sklearn.linear_model import LogisticRegression\n",
        "import warnings\n",
        "warnings.filterwarnings('ignore')\n"
      ]
    },
    {
      "cell_type": "code",
      "source": [
        "df = pd.read_csv('/content/WineQT.csv')\n",
        "print(df.head())\n"
      ],
      "metadata": {
        "id": "Cjcb-Zvxb2Vj"
      },
      "execution_count": null,
      "outputs": []
    },
    {
      "cell_type": "code",
      "source": [
        "df.info()\n"
      ],
      "metadata": {
        "id": "tyQo-2-7b-aD"
      },
      "execution_count": null,
      "outputs": []
    },
    {
      "cell_type": "code",
      "source": [
        "df.describe().T\n"
      ],
      "metadata": {
        "id": "eT-b09H4b-We"
      },
      "execution_count": null,
      "outputs": []
    },
    {
      "cell_type": "code",
      "source": [
        "#Exploratory Data Analysis\n",
        "df.isnull().sum()\n"
      ],
      "metadata": {
        "id": "971FaOoCb-UC"
      },
      "execution_count": null,
      "outputs": []
    },
    {
      "cell_type": "code",
      "source": [
        "for col in df.columns:\n",
        "  if df[col].isnull().sum() > 0:\n",
        "\t   df[col] = df[col].fillna(df[col].mean())\n",
        "\n",
        "df.isnull().sum().sum()\n"
      ],
      "metadata": {
        "id": "NxsXRsTxb-RU"
      },
      "execution_count": null,
      "outputs": []
    },
    {
      "cell_type": "code",
      "source": [
        "df.hist(bins=20, figsize=(10, 10))\n",
        "plt.show()\n"
      ],
      "metadata": {
        "id": "2oGjJ8x5b-Gs"
      },
      "execution_count": null,
      "outputs": []
    },
    {
      "cell_type": "code",
      "source": [
        "plt.bar(df['quality'], df['alcohol'])\n",
        "plt.xlabel('quality')\n",
        "plt.ylabel('alcohol')\n",
        "plt.show()\n"
      ],
      "metadata": {
        "id": "960MpCfacxXv"
      },
      "execution_count": null,
      "outputs": []
    },
    {
      "cell_type": "code",
      "source": [
        "plt.figure(figsize=(12, 12))\n",
        "sb.heatmap(df.corr() > 0.7, annot=True, cbar=False)\n",
        "plt.show()\n"
      ],
      "metadata": {
        "id": "lxbqeV6lcxUI"
      },
      "execution_count": null,
      "outputs": []
    },
    {
      "cell_type": "code",
      "source": [
        "df = df.drop('total sulfur dioxide', axis=1)\n"
      ],
      "metadata": {
        "id": "EyOSGs3UcxQp"
      },
      "execution_count": null,
      "outputs": []
    },
    {
      "cell_type": "code",
      "source": [
        "#Model Development\n",
        "df['best quality'] = [1 if x > 5 else 0 for x in df.quality]\n"
      ],
      "metadata": {
        "id": "l4t-AoKkcxF7"
      },
      "execution_count": null,
      "outputs": []
    },
    {
      "cell_type": "code",
      "source": [
        "df.replace({'white': 1, 'red': 0}, inplace=True)\n"
      ],
      "metadata": {
        "id": "HhmBuvzgdG3I"
      },
      "execution_count": null,
      "outputs": []
    },
    {
      "cell_type": "code",
      "source": [
        "features = df.drop(['quality', 'best quality'], axis=1)\n",
        "target = df['best quality']\n",
        "\n",
        "xtrain, xtest, ytrain, ytest = train_test_split(\n",
        "\tfeatures, target, test_size=0.2, random_state=40)\n",
        "\n",
        "xtrain.shape, xtest.shape\n"
      ],
      "metadata": {
        "id": "K_2Ltx5tdGzi"
      },
      "execution_count": null,
      "outputs": []
    },
    {
      "cell_type": "code",
      "source": [
        "#normalizing\n",
        "norm = MinMaxScaler()\n",
        "xtrain = norm.fit_transform(xtrain)\n",
        "xtest = norm.transform(xtest)\n"
      ],
      "metadata": {
        "id": "F9LCaT-fdGxI"
      },
      "execution_count": null,
      "outputs": []
    },
    {
      "cell_type": "code",
      "source": [
        "models = [LogisticRegression(), XGBClassifier(), SVC(kernel='rbf')]\n",
        "\n",
        "for i in range(3):\n",
        "\tmodels[i].fit(xtrain, ytrain)\n",
        "\n",
        "\tprint(f'{models[i]} : ')\n",
        "\tprint('Training Accuracy : ', metrics.roc_auc_score(ytrain, models[i].predict(xtrain)))\n",
        "\tprint('Validation Accuracy : ', metrics.roc_auc_score(\n",
        "\t\tytest, models[i].predict(xtest)))\n",
        "\tprint()\n"
      ],
      "metadata": {
        "id": "Y8JGyv8bdGug"
      },
      "execution_count": null,
      "outputs": []
    },
    {
      "cell_type": "code",
      "source": [
        "import matplotlib.pyplot as plt\n",
        "from sklearn.metrics import confusion_matrix, ConfusionMatrixDisplay\n",
        "cm = confusion_matrix(ytest, models[1].predict(xtest))\n",
        "disp = ConfusionMatrixDisplay(confusion_matrix=cm)\n",
        "disp.plot()\n",
        "plt.show()"
      ],
      "metadata": {
        "id": "jSj1iiIMdvwJ"
      },
      "execution_count": null,
      "outputs": []
    },
    {
      "cell_type": "code",
      "source": [
        "print(metrics.classification_report(ytest,\n",
        "\t\t\t\t\t\t\t\t\tmodels[1].predict(xtest)))\n"
      ],
      "metadata": {
        "id": "buzOgEDFeYGy"
      },
      "execution_count": null,
      "outputs": []
    },
    {
      "cell_type": "code",
      "source": [],
      "metadata": {
        "id": "NPAwEezEebPN"
      },
      "execution_count": null,
      "outputs": []
    }
  ]
}